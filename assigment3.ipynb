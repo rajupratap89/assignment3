{
 "cells": [
  {
   "cell_type": "code",
   "execution_count": null,
   "id": "723891ac-bf99-483d-a253-a7cfeffcfff8",
   "metadata": {},
   "outputs": [],
   "source": [
    "Q1. Explain Class and Object with respect to Object-Oriented Programming. Give a suitable example."
   ]
  },
  {
   "cell_type": "code",
   "execution_count": 1,
   "id": "505adbce-48c5-4d70-9b8d-1c4caa2a2821",
   "metadata": {},
   "outputs": [],
   "source": [
    "class test :\n",
    "    pass"
   ]
  },
  {
   "cell_type": "code",
   "execution_count": 2,
   "id": "5c1a9b50-f9f3-42d1-a9cb-2122f49e1da0",
   "metadata": {},
   "outputs": [
    {
     "name": "stdout",
     "output_type": "stream",
     "text": [
      "<class 'type'>\n"
     ]
    }
   ],
   "source": [
    "print(type(test))"
   ]
  },
  {
   "cell_type": "code",
   "execution_count": null,
   "id": "84a4ef61-63cc-4642-b3a8-5949ea65ed9e",
   "metadata": {},
   "outputs": [],
   "source": [
    "Q2. Name the four pillars of OOPs."
   ]
  },
  {
   "cell_type": "code",
   "execution_count": null,
   "id": "40a84c30-e740-495c-a109-12282e1afdaf",
   "metadata": {},
   "outputs": [],
   "source": [
    "\n",
    "The four pillars of Object-Oriented Programming (OOP) are:\n",
    "\n",
    "Encapsulation ,Abstraction,Inheritance,Polymorphism"
   ]
  },
  {
   "cell_type": "code",
   "execution_count": null,
   "id": "902bebd2-0997-4944-bdba-0970f2cf0af7",
   "metadata": {},
   "outputs": [],
   "source": [
    "Q3. Explain why the __init__() function is used. Give a suitable example."
   ]
  },
  {
   "cell_type": "code",
   "execution_count": 9,
   "id": "6c67d946-356f-4fa4-bdd0-c49932151851",
   "metadata": {},
   "outputs": [],
   "source": [
    "class victors():\n",
    "    \n",
    "    def __init__(self,mobile_number,email_id,student_id):\n",
    "        self.mobile_number=mobile_number\n",
    "        self.email_id=email_id\n",
    "        self.student_id=student_id\n",
    "        \n",
    "    def student_details():\n",
    "        return self.mobile_number,self.email_id,self.student_id\n",
    "        "
   ]
  },
  {
   "cell_type": "code",
   "execution_count": 10,
   "id": "57d05656-43ac-4a23-9fae-34ca35aca69e",
   "metadata": {},
   "outputs": [],
   "source": [
    "rayu=victors(1234567,\"rayu@gmail.com\",100)"
   ]
  },
  {
   "cell_type": "code",
   "execution_count": 11,
   "id": "2ea07cb4-4e3d-438f-b5b8-202d2052514f",
   "metadata": {},
   "outputs": [
    {
     "data": {
      "text/plain": [
       "1234567"
      ]
     },
     "execution_count": 11,
     "metadata": {},
     "output_type": "execute_result"
    }
   ],
   "source": [
    "rayu.mobile_number"
   ]
  },
  {
   "cell_type": "code",
   "execution_count": 12,
   "id": "44298c91-5a2c-436c-b56e-141a1ddf4e73",
   "metadata": {},
   "outputs": [
    {
     "data": {
      "text/plain": [
       "'rayu@gmail.com'"
      ]
     },
     "execution_count": 12,
     "metadata": {},
     "output_type": "execute_result"
    }
   ],
   "source": [
    "rayu.email_id"
   ]
  },
  {
   "cell_type": "code",
   "execution_count": 13,
   "id": "8ede37c3-6148-43c3-b46e-0cb0f48c2dfc",
   "metadata": {},
   "outputs": [
    {
     "data": {
      "text/plain": [
       "100"
      ]
     },
     "execution_count": 13,
     "metadata": {},
     "output_type": "execute_result"
    }
   ],
   "source": [
    "rayu.student_id"
   ]
  },
  {
   "cell_type": "code",
   "execution_count": null,
   "id": "87f3717a-8010-4473-bc77-3e7cbd600f6c",
   "metadata": {},
   "outputs": [],
   "source": [
    "Q4. Why self is used in OOPs?"
   ]
  },
  {
   "cell_type": "code",
   "execution_count": null,
   "id": "f1a689c0-5741-499c-ba9c-c0450eb55580",
   "metadata": {},
   "outputs": [],
   "source": [
    "reference to the current object that is being operated upon.\n",
    "     \n",
    "    class victor():\n",
    "        \n",
    "        def __init__(self,phone_number,email_id):\n",
    "            self"
   ]
  }
 ],
 "metadata": {
  "kernelspec": {
   "display_name": "Python 3 (ipykernel)",
   "language": "python",
   "name": "python3"
  },
  "language_info": {
   "codemirror_mode": {
    "name": "ipython",
    "version": 3
   },
   "file_extension": ".py",
   "mimetype": "text/x-python",
   "name": "python",
   "nbconvert_exporter": "python",
   "pygments_lexer": "ipython3",
   "version": "3.10.8"
  }
 },
 "nbformat": 4,
 "nbformat_minor": 5
}
